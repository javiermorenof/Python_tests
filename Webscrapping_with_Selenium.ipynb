{
 "cells": [
  {
   "cell_type": "markdown",
   "metadata": {},
   "source": [
    "### Python webscrapping usando Selenium\n",
    "\n",
    "BeautifulSoup es una buena librería de webscrapping, pero para aquellas páginas web que usan JavaScript, se debe usar Selenium, para poder interactuar con eventos."
   ]
  },
  {
   "cell_type": "code",
   "execution_count": 2,
   "metadata": {},
   "outputs": [
    {
     "name": "stdout",
     "output_type": "stream",
     "text": [
      "Collecting selenium\n",
      "  Downloading https://files.pythonhosted.org/packages/80/d6/4294f0b4bce4de0abf13e17190289f9d0613b0a44e5dd6a7f5ca98459853/selenium-3.141.0-py2.py3-none-any.whl (904kB)\n",
      "Requirement already satisfied: urllib3 in c:\\users\\jota_moreno\\anaconda3\\lib\\site-packages (from selenium) (1.24.2)\n",
      "Installing collected packages: selenium\n",
      "Successfully installed selenium-3.141.0\n"
     ]
    }
   ],
   "source": [
    "#Se instalan las librerías\n",
    "#!pip install selenium\n",
    "\n",
    "#Se descarga ChromeDriver\n",
    "#http://chromedriver.storage.googleapis.com/index.html"
   ]
  },
  {
   "cell_type": "code",
   "execution_count": 60,
   "metadata": {},
   "outputs": [],
   "source": [
    "#Se importa la librería webdriver\n",
    "from selenium import webdriver\n",
    "from selenium.webdriver.common.keys import Keys\n",
    "import time\n",
    "\n",
    "#Se apunta a la carpeta en la que se encuentra el ChromeDriver descargado\n",
    "driver = webdriver.Chrome(\"C:/Users/Jota_Moreno/Downloads/chromedriver_win32/chromedriver.exe\")\n",
    "\n",
    "#Se abre una página web\n",
    "webpage = \"https://www.alcampo.es/compra-online/\"\n",
    "page =  driver.get(webpage)\n",
    "\n",
    "\n",
    "#Se busca el botón de introducir ubicación\n",
    "time.sleep(2)\n",
    "searchbox = driver.find_element_by_xpath('/html/body/div[3]/div[3]/div[8]/div[1]/div[5]/div[1]/div/div[2]/div/div[2]/ul/li[1]/a').click()\n",
    "time.sleep(2)\n",
    "searchbox = driver.find_element_by_id('postalCode').send_keys(CP)\n",
    "button = driver.find_element_by_id('changePostalCodeButton').click()\n",
    "time.sleep(2)\n",
    "searchcontent = driver.find_element_by_xpath('/html/body/div[3]/div[3]/div[8]/div[1]/div[4]/div[1]/form/div/div/input').send_keys(\"Juegos Nintendo Switch\", Keys.ENTER)"
   ]
  },
  {
   "cell_type": "code",
   "execution_count": 61,
   "metadata": {},
   "outputs": [],
   "source": [
    "#Se importa la librería webdriver\n",
    "from selenium import webdriver\n",
    "from selenium.webdriver.common.keys import Keys\n",
    "import time\n",
    "\n",
    "#Se apunta a la carpeta en la que se encuentra el ChromeDriver descargado\n",
    "driver = webdriver.Chrome(\"C:/Users/Jota_Moreno/Downloads/chromedriver_win32/chromedriver.exe\")\n",
    "\n",
    "#Se abre una página web\n",
    "webpage = \"https://www.alcampo.es/compra-online/search/?department=&text=Juegos+Nintendo+Switch\"\n",
    "page =  driver.get(webpage)\n",
    "\n",
    "\n",
    "#Se busca el botón de introducir ubicación\n",
    "time.sleep(2)\n",
    "searchbox = driver.find_element_by_xpath('/html/body/div[3]/div[3]/div[8]/div[1]/div[5]/div[1]/div/div[2]/div/div[2]/ul/li[1]/a').click()\n",
    "time.sleep(2)\n",
    "searchbox = driver.find_element_by_id('postalCode').send_keys(CP)\n",
    "button = driver.find_element_by_id('changePostalCodeButton').click()\n"
   ]
  },
  {
   "cell_type": "code",
   "execution_count": null,
   "metadata": {},
   "outputs": [],
   "source": []
  }
 ],
 "metadata": {
  "kernelspec": {
   "display_name": "Python 3",
   "language": "python",
   "name": "python3"
  },
  "language_info": {
   "codemirror_mode": {
    "name": "ipython",
    "version": 3
   },
   "file_extension": ".py",
   "mimetype": "text/x-python",
   "name": "python",
   "nbconvert_exporter": "python",
   "pygments_lexer": "ipython3",
   "version": "3.7.4"
  }
 },
 "nbformat": 4,
 "nbformat_minor": 2
}
